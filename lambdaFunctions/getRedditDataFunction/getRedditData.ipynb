{
 "cells": [
  {
   "cell_type": "code",
   "execution_count": null,
   "metadata": {},
   "outputs": [],
   "source": [
    "%load_ext autoreload\n",
    "%autoreload 2"
   ]
  },
  {
   "cell_type": "code",
   "execution_count": null,
   "metadata": {},
   "outputs": [],
   "source": [
    "import praw\n",
    "from datetime import datetime, timezone"
   ]
  },
  {
   "cell_type": "code",
   "execution_count": null,
   "metadata": {},
   "outputs": [],
   "source": [
    "import utils\n",
    "import tabledefinitions"
   ]
  },
  {
   "cell_type": "code",
   "execution_count": null,
   "metadata": {},
   "outputs": [],
   "source": [
    "cfg_file = utils.findConfig()\n",
    "cfg = utils.parseConfig(cfg_file)"
   ]
  },
  {
   "cell_type": "code",
   "execution_count": null,
   "metadata": {},
   "outputs": [],
   "source": [
    "CLIENT_ID = cfg['CLIENTID']\n",
    "CLIENT_SECRET = cfg['CLIENTSECRET']\n",
    "PASSWORD = cfg['PASSWORD']\n",
    "USERNAME = cfg['USERNAME']"
   ]
  },
  {
   "cell_type": "code",
   "execution_count": null,
   "metadata": {},
   "outputs": [],
   "source": [
    "reddit = praw.Reddit(\n",
    "    client_id=f\"{CLIENT_ID}\",\n",
    "    client_secret=f\"{CLIENT_SECRET}\",\n",
    "    password=f\"{PASSWORD}\",\n",
    "    user_agent=f\"Post Extraction (by u/{USERNAME})\",\n",
    "    username=f\"{USERNAME}\",\n",
    ")\n",
    "\n",
    "print(reddit.read_only)\n",
    "#print(reddit.user.me())"
   ]
  },
  {
   "cell_type": "markdown",
   "metadata": {},
   "source": [
    "Get Rising Reddit Data"
   ]
  },
  {
   "cell_type": "code",
   "execution_count": null,
   "metadata": {},
   "outputs": [],
   "source": [
    "subreddit = \"pics\"\n",
    "risingSchema=tabledefinitions.risingTableDefinition.risingSchema\n",
    "topN=25\n",
    "view='rising'\n",
    "risingData = utils.getRedditData(reddit=reddit, subreddit=subreddit, view=view, schema=risingSchema, topN=topN) "
   ]
  },
  {
   "cell_type": "code",
   "execution_count": null,
   "metadata": {},
   "outputs": [],
   "source": [
    "# for visualization purposes, don't need pandas later\n",
    "import pandas as pd\n",
    "pd.DataFrame(risingData)"
   ]
  },
  {
   "cell_type": "markdown",
   "metadata": {},
   "source": [
    "Push to Dynamo\n",
    "\n",
    "Steps\n",
    "\n",
    "1. Set up [IAM Identity Center](https://docs.aws.amazon.com/singlesignon/latest/userguide/getting-started.html). Create a permission set and a user under this permission set. Set up MFA with this user.\n",
    "2. Install [AWS CLI V2](https://docs.aws.amazon.com/cli/latest/userguide/cli-chap-getting-started.html)\n",
    "3. [Install Boto3](https://boto3.amazonaws.com/v1/documentation/api/latest/guide/quickstart.html#install-boto3) and [set up the config file](https://boto3.amazonaws.com/v1/documentation/api/latest/guide/credentials.html#aws-iam-identity-center) for the IAM Identity Center. During the set up you will be prompted to log into the user you created with the MFA method you previously set up."
   ]
  },
  {
   "cell_type": "code",
   "execution_count": null,
   "metadata": {},
   "outputs": [],
   "source": [
    "import boto3\n",
    "\n",
    "session = boto3.Session(profile_name='AdministratorAccess', region_name='us-east-2')\n",
    "# resource vs client: https://www.learnaws.org/2021/02/24/boto3-resource-client/\n",
    "dynamodb_resource = session.resource('dynamodb')  #  higher level abstractions, recommended to use, fewer methods but creating table returns a table object that you can run operations on, can also grab a Table with Table('name')\n",
    "# dynamodb_client = session.client('dynamodb')  # low-level, more explicit methods. Creating table returns a dictionary"
   ]
  },
  {
   "cell_type": "code",
   "execution_count": null,
   "metadata": {},
   "outputs": [],
   "source": [
    "%%time\n",
    "tableName = tabledefinitions.risingTableDefinition.tableName  # table for collecting rising posts data\n",
    "risingRawTableDefinition = tabledefinitions.risingTableDefinition.risingRawTableDefinition\n",
    "risingSchema = tabledefinitions.risingTableDefinition.risingSchema\n",
    "\n",
    "risingTable = utils.getOrCreateTable(risingRawTableDefinition, dynamodb_resource)"
   ]
  },
  {
   "cell_type": "code",
   "execution_count": null,
   "metadata": {},
   "outputs": [],
   "source": [
    "utils.batchWriter(risingTable, risingData, risingSchema)"
   ]
  },
  {
   "cell_type": "markdown",
   "metadata": {},
   "source": [
    "To do:\n",
    "\n",
    "- write a function that gathers the top data\n",
    "- write a function that cleans up data older than ~24 hours\n",
    "- write a function that cleans the current dynamo data and joins it to targets (the top data)"
   ]
  },
  {
   "cell_type": "code",
   "execution_count": null,
   "metadata": {},
   "outputs": [],
   "source": [
    "# currently this is basically the same as rising but I wanted to make this framework flexible\n",
    "# enough to accept different forms of the data\n",
    "hotSchema=tabledefinitions.hotTableDefinition.hotSchema\n",
    "topN=3\n",
    "view='hot'\n",
    "hotData = utils.getRedditData(reddit=reddit, subreddit=subreddit, view=view, schema=hotSchema, topN=topN) "
   ]
  },
  {
   "cell_type": "code",
   "execution_count": null,
   "metadata": {},
   "outputs": [],
   "source": []
  }
 ],
 "metadata": {
  "hide_input": false,
  "kernelspec": {
   "display_name": "py37",
   "language": "python",
   "name": "py37"
  },
  "language_info": {
   "codemirror_mode": {
    "name": "ipython",
    "version": 3
   },
   "file_extension": ".py",
   "mimetype": "text/x-python",
   "name": "python",
   "nbconvert_exporter": "python",
   "pygments_lexer": "ipython3",
   "version": "3.7.3"
  }
 },
 "nbformat": 4,
 "nbformat_minor": 2
}
